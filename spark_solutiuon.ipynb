{
  "nbformat": 4,
  "nbformat_minor": 0,
  "metadata": {
    "colab": {
      "name": "spark_uir_solutiuon.ipynb",
      "provenance": [],
      "collapsed_sections": [],
      "authorship_tag": "ABX9TyMSrNw7t6oXp/LPMMm3wQJV",
      "include_colab_link": true
    },
    "kernelspec": {
      "name": "python3",
      "display_name": "Python 3"
    },
    "language_info": {
      "name": "python"
    }
  },
  "cells": [
    {
      "cell_type": "markdown",
      "metadata": {
        "id": "view-in-github",
        "colab_type": "text"
      },
      "source": [
        "<a href=\"https://colab.research.google.com/github/na0495/spark-mini-project/blob/master/spark_solutiuon.ipynb\" target=\"_parent\"><img src=\"https://colab.research.google.com/assets/colab-badge.svg\" alt=\"Open In Colab\"/></a>"
      ]
    },
    {
      "cell_type": "code",
      "execution_count": 1,
      "metadata": {
        "colab": {
          "base_uri": "https://localhost:8080/"
        },
        "id": "HTK0A0AVPcqF",
        "outputId": "0388cf10-4279-45fe-e582-5486946249d5"
      },
      "outputs": [
        {
          "output_type": "stream",
          "name": "stdout",
          "text": [
            "Looking in indexes: https://pypi.org/simple, https://us-python.pkg.dev/colab-wheels/public/simple/\n",
            "Collecting pyspark\n",
            "  Downloading pyspark-3.2.1.tar.gz (281.4 MB)\n",
            "\u001b[K     |████████████████████████████████| 281.4 MB 35 kB/s \n",
            "\u001b[?25hCollecting py4j==0.10.9.3\n",
            "  Downloading py4j-0.10.9.3-py2.py3-none-any.whl (198 kB)\n",
            "\u001b[K     |████████████████████████████████| 198 kB 39.4 MB/s \n",
            "\u001b[?25hBuilding wheels for collected packages: pyspark\n",
            "  Building wheel for pyspark (setup.py) ... \u001b[?25l\u001b[?25hdone\n",
            "  Created wheel for pyspark: filename=pyspark-3.2.1-py2.py3-none-any.whl size=281853642 sha256=dbb65996fd90a1137e4ae1414d8683262731a3051511fa82f89472c7a2291423\n",
            "  Stored in directory: /root/.cache/pip/wheels/9f/f5/07/7cd8017084dce4e93e84e92efd1e1d5334db05f2e83bcef74f\n",
            "Successfully built pyspark\n",
            "Installing collected packages: py4j, pyspark\n",
            "Successfully installed py4j-0.10.9.3 pyspark-3.2.1\n"
          ]
        }
      ],
      "source": [
        "!pip install pyspark"
      ]
    },
    {
      "cell_type": "markdown",
      "source": [
        "1. Définir les DF associées à chaque donnée."
      ],
      "metadata": {
        "id": "FkYKzRv5Uwip"
      }
    },
    {
      "cell_type": "code",
      "source": [
        "from pyspark.sql import SparkSession\n",
        "\n",
        "spark = SparkSession.builder.getOrCreate()\n",
        "\n",
        "# read df from json file\n",
        "orders_df = spark.read.option(\"multiline\", \"true\").json(\"data/orders.json\")\n",
        "addresses_df = spark.read.option(\"multiline\", \"true\").json(\"data/addresses.json\")\n",
        "prices_df = spark.read.option(\"multiline\", \"true\").json(\"data/prices.json\")\n",
        "products_df = spark.read.option(\"multiline\", \"true\").json(\"data/products.json\")"
      ],
      "metadata": {
        "id": "jw6wE612Ptlk"
      },
      "execution_count": 28,
      "outputs": []
    },
    {
      "cell_type": "markdown",
      "source": [
        "2. Créer une vue pour chaque DF createOrReplaceTempView"
      ],
      "metadata": {
        "id": "pRWeOJySU3PZ"
      }
    },
    {
      "cell_type": "code",
      "source": [
        "# createOrReplaceTempView for each df\n",
        "orders_df.createOrReplaceTempView(\"orders\")\n",
        "addresses_df.createOrReplaceTempView(\"addresses\")\n",
        "prices_df.createOrReplaceTempView(\"prices\")\n",
        "products_df.createOrReplaceTempView(\"products\")\n",
        "\n",
        "spark.sql(\"SELECT * FROM orders\").show()\n",
        "spark.sql(\"SELECT * FROM addresses\").show()\n",
        "spark.sql(\"SELECT * FROM prices\").show()\n",
        "spark.sql(\"SELECT * FROM products\").show()\n"
      ],
      "metadata": {
        "colab": {
          "base_uri": "https://localhost:8080/"
        },
        "id": "xT9f5EMBQ6xN",
        "outputId": "04062ab6-f2f8-4062-87f8-dfe013552bb5"
      },
      "execution_count": 38,
      "outputs": [
        {
          "output_type": "stream",
          "name": "stdout",
          "text": [
            "+------+-----+-------+------+--------+\n",
            "|agence|annee|article|client|quantite|\n",
            "+------+-----+-------+------+--------+\n",
            "|    75| 2021|      3|  toto|       2|\n",
            "|    75| 2020|      2|  toto|       1|\n",
            "|    51| 2021|      1|  toto|       5|\n",
            "|    51| 2021|      2|  fofo|       6|\n",
            "+------+-----+-------+------+--------+\n",
            "\n",
            "+------+---+\n",
            "|adress| id|\n",
            "+------+---+\n",
            "| paris| 75|\n",
            "| reims| 51|\n",
            "|  nice|  6|\n",
            "+------+---+\n",
            "\n",
            "+---+----+\n",
            "|idm|prix|\n",
            "+---+----+\n",
            "|  1|  10|\n",
            "|  2|  20|\n",
            "|  3|  70|\n",
            "+---+----+\n",
            "\n",
            "+---+-------+-------+\n",
            "|idm| marque|produit|\n",
            "+---+-------+-------+\n",
            "|  1|   sony| souris|\n",
            "|  2|samsung|clavier|\n",
            "|  3|  apple|  ecran|\n",
            "+---+-------+-------+\n",
            "\n"
          ]
        }
      ]
    },
    {
      "cell_type": "markdown",
      "source": [
        "3. Proposer des réponses pour les requêtes suivantes :\n",
        "*   Déterminer les prix de chaque produit\n",
        "\n",
        "\n",
        "\n",
        "\n",
        "\n"
      ],
      "metadata": {
        "id": "H4H9QkXdU2cG"
      }
    },
    {
      "cell_type": "code",
      "source": [
        "# get the price of each product\n",
        "products_df.select(\"idm\", 'produit').join(prices_df, \"idm\").show()\n"
      ],
      "metadata": {
        "colab": {
          "base_uri": "https://localhost:8080/"
        },
        "id": "yQdxoSM8R8Qh",
        "outputId": "da47f6e7-db14-429e-ab86-177bd3f8d766"
      },
      "execution_count": 32,
      "outputs": [
        {
          "output_type": "stream",
          "name": "stdout",
          "text": [
            "+---+-------+----+\n",
            "|idm|produit|prix|\n",
            "+---+-------+----+\n",
            "|  1| souris|  10|\n",
            "|  2|clavier|  20|\n",
            "|  3|  ecran|  70|\n",
            "+---+-------+----+\n",
            "\n"
          ]
        }
      ]
    },
    {
      "cell_type": "markdown",
      "source": [
        "* Déterminer les articles que toto a acheté en 2021"
      ],
      "metadata": {
        "id": "QEGGs1ecUpgR"
      }
    },
    {
      "cell_type": "markdown",
      "source": [
        ""
      ],
      "metadata": {
        "id": "0xRnpoCnWVLd"
      }
    },
    {
      "cell_type": "code",
      "source": [
        "orders_df.select(\"annee\", \"article\").filter(orders_df.annee.like(\"%2021%\")).show()"
      ],
      "metadata": {
        "colab": {
          "base_uri": "https://localhost:8080/"
        },
        "id": "SPpaUnNGUbTy",
        "outputId": "9e53caae-b769-4bbc-8747-412d149c2cf7"
      },
      "execution_count": 42,
      "outputs": [
        {
          "output_type": "stream",
          "name": "stdout",
          "text": [
            "+-----+-------+\n",
            "|annee|article|\n",
            "+-----+-------+\n",
            "| 2021|      3|\n",
            "| 2021|      1|\n",
            "| 2021|      2|\n",
            "+-----+-------+\n",
            "\n"
          ]
        }
      ]
    },
    {
      "cell_type": "markdown",
      "source": [
        "* Montant dépensé par toto par agence"
      ],
      "metadata": {
        "id": "pfq8QXCcVQM5"
      }
    },
    {
      "cell_type": "code",
      "source": [
        "orders_df.join(prices_df, orders_df.article == prices_df.idm, \"left\").filter(orders_df.client.like(\"toto\")).groupBy(\"agence\").sum(\"prix\").show()\n"
      ],
      "metadata": {
        "colab": {
          "base_uri": "https://localhost:8080/"
        },
        "id": "Bt8TkWRBVXZa",
        "outputId": "9a2c2331-4119-40e1-ccf0-114f88a4f176"
      },
      "execution_count": 64,
      "outputs": [
        {
          "output_type": "stream",
          "name": "stdout",
          "text": [
            "+------+---------+\n",
            "|agence|sum(prix)|\n",
            "+------+---------+\n",
            "|    51|       10|\n",
            "|    75|       90|\n",
            "+------+---------+\n",
            "\n"
          ]
        }
      ]
    },
    {
      "cell_type": "markdown",
      "source": [
        "* Déterminer le CA pour chaque agence en 2021"
      ],
      "metadata": {
        "id": "-5QDNYS0Zmc9"
      }
    },
    {
      "cell_type": "code",
      "source": [
        "turnover_df = orders_df.join(prices_df, orders_df.article == prices_df.idm, \"left\")\n",
        "tr = turnover_df.withColumn(\"turnover\", turnover_df[\"prix\"] * turnover_df[\"quantite\"]).select(\"agence\", \"turnover\").orderBy(\"agence\")\n",
        "tr.groupBy(\"agence\").sum(\"turnover\").show()"
      ],
      "metadata": {
        "colab": {
          "base_uri": "https://localhost:8080/"
        },
        "id": "aoXq40IMZ1JY",
        "outputId": "4ea04e76-7644-4709-a47d-c1ce69cb151e"
      },
      "execution_count": 94,
      "outputs": [
        {
          "output_type": "stream",
          "name": "stdout",
          "text": [
            "+------+-------------+\n",
            "|agence|sum(turnover)|\n",
            "+------+-------------+\n",
            "|    51|          170|\n",
            "|    75|          160|\n",
            "+------+-------------+\n",
            "\n"
          ]
        }
      ]
    },
    {
      "cell_type": "markdown",
      "source": [
        "* Quel est le produit qui a le plus été acheté en 2021 ?\n"
      ],
      "metadata": {
        "id": "JtC6PkQYdvFD"
      }
    },
    {
      "cell_type": "code",
      "source": [
        "orders_df.join(prices_df, orders_df.article == prices_df.idm, \"left\").groupBy(\"article\").sum(\"quantite\").orderBy(\"sum(quantite)\", ascending=False).show()"
      ],
      "metadata": {
        "colab": {
          "base_uri": "https://localhost:8080/"
        },
        "id": "vC2V04Sndwy8",
        "outputId": "838b4710-53f1-492e-c8ee-dfc23c71b062"
      },
      "execution_count": 95,
      "outputs": [
        {
          "output_type": "stream",
          "name": "stdout",
          "text": [
            "+-------+-------------+\n",
            "|article|sum(quantite)|\n",
            "+-------+-------------+\n",
            "|      2|            7|\n",
            "|      1|            5|\n",
            "|      3|            2|\n",
            "+-------+-------------+\n",
            "\n"
          ]
        }
      ]
    },
    {
      "cell_type": "markdown",
      "source": [
        "* Quel est le client qui a acheté le plus d’article ?"
      ],
      "metadata": {
        "id": "PuCr6_dMd7u3"
      }
    },
    {
      "cell_type": "code",
      "source": [
        "orders_df.join(prices_df, orders_df.article == prices_df.idm, \"left\").groupBy(\"client\").sum(\"quantite\").orderBy(\"sum(quantite)\", ascending=False).show()"
      ],
      "metadata": {
        "colab": {
          "base_uri": "https://localhost:8080/"
        },
        "id": "Y3gh8_CreFny",
        "outputId": "dae3b10e-5155-4353-be8c-7dab729f051c"
      },
      "execution_count": 96,
      "outputs": [
        {
          "output_type": "stream",
          "name": "stdout",
          "text": [
            "+------+-------------+\n",
            "|client|sum(quantite)|\n",
            "+------+-------------+\n",
            "|  toto|            8|\n",
            "|  fofo|            6|\n",
            "+------+-------------+\n",
            "\n"
          ]
        }
      ]
    },
    {
      "cell_type": "markdown",
      "source": [
        "* Qui est le client qui a dépensé le plus d’argent ?"
      ],
      "metadata": {
        "id": "RpMZD-G4eTpe"
      }
    },
    {
      "cell_type": "code",
      "source": [
        "orders_df.join(prices_df, orders_df.article == prices_df.idm, \"left\").groupBy(\"client\").sum(\"prix\").orderBy(\"sum(prix)\", ascending=False).show()"
      ],
      "metadata": {
        "colab": {
          "base_uri": "https://localhost:8080/"
        },
        "id": "6IM4NRBTeT7u",
        "outputId": "9ea127f8-e5b6-4db0-e30a-60ebf71e4e4c"
      },
      "execution_count": 97,
      "outputs": [
        {
          "output_type": "stream",
          "name": "stdout",
          "text": [
            "+------+---------+\n",
            "|client|sum(prix)|\n",
            "+------+---------+\n",
            "|  toto|      100|\n",
            "|  fofo|       20|\n",
            "+------+---------+\n",
            "\n"
          ]
        }
      ]
    }
  ]
}